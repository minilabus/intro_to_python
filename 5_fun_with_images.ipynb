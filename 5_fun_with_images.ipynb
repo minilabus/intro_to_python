{
 "cells": [
  {
   "cell_type": "code",
   "execution_count": 1,
   "id": "904a45dd",
   "metadata": {},
   "outputs": [
    {
     "ename": "ModuleNotFoundError",
     "evalue": "No module named 'imageio'",
     "output_type": "error",
     "traceback": [
      "\u001b[0;31m---------------------------------------------------------------------------\u001b[0m",
      "\u001b[0;31mModuleNotFoundError\u001b[0m                       Traceback (most recent call last)",
      "Cell \u001b[0;32mIn [1], line 1\u001b[0m\n\u001b[0;32m----> 1\u001b[0m \u001b[38;5;28;01mimport\u001b[39;00m \u001b[38;5;21;01mimageio\u001b[39;00m\u001b[38;5;21;01m.\u001b[39;00m\u001b[38;5;21;01mv2\u001b[39;00m \u001b[38;5;28;01mas\u001b[39;00m \u001b[38;5;21;01miio\u001b[39;00m\n\u001b[1;32m      2\u001b[0m \u001b[38;5;28;01mimport\u001b[39;00m \u001b[38;5;21;01mnumpy\u001b[39;00m \u001b[38;5;28;01mas\u001b[39;00m \u001b[38;5;21;01mnp\u001b[39;00m\n\u001b[1;32m      3\u001b[0m \u001b[38;5;28;01mimport\u001b[39;00m \u001b[38;5;21;01mos\u001b[39;00m\n",
      "\u001b[0;31mModuleNotFoundError\u001b[0m: No module named 'imageio'"
     ]
    }
   ],
   "source": [
    "import imageio.v2 as iio\n",
    "import numpy as np\n",
    "import os\n",
    "\n",
    "# Load the image and declare functions\n",
    "input_filename = 'data/man_computer_smiling.jpg'\n",
    "ori_img = iio.imread(input_filename)\n",
    "\n",
    "def save_anim(data_list, filename, fps=30):\n",
    "    _, ext = os.path.splitext(filename)\n",
    "    if ext not in ['.gif', '.mp4']:\n",
    "        raise ValueError('Datatype {} not supported!'.format(ext))\n",
    "    iio.mimsave(filename, data_list, fps=fps)\n",
    "    \n",
    "def generate_anim(data, func, tot_frame=100):\n",
    "    anim = []\n",
    "    for i in range(tot_frame):\n",
    "        anim.append((func(data, (i, tot_frame))))\n",
    "    return anim"
   ]
  },
  {
   "cell_type": "code",
   "execution_count": 2,
   "id": "f612867b",
   "metadata": {},
   "outputs": [
    {
     "ename": "NameError",
     "evalue": "name 'generate_anim' is not defined",
     "output_type": "error",
     "traceback": [
      "\u001b[0;31m---------------------------------------------------------------------------\u001b[0m",
      "\u001b[0;31mNameError\u001b[0m                                 Traceback (most recent call last)",
      "Cell \u001b[0;32mIn [2], line 6\u001b[0m\n\u001b[1;32m      3\u001b[0m     i \u001b[38;5;241m=\u001b[39m (data\u001b[38;5;241m.\u001b[39mshape[\u001b[38;5;241m0\u001b[39m] \u001b[38;5;241m/\u001b[39m\u001b[38;5;241m/\u001b[39m iter_tuple[\u001b[38;5;241m1\u001b[39m]) \u001b[38;5;241m*\u001b[39m iter_tuple[\u001b[38;5;241m0\u001b[39m]\n\u001b[1;32m      4\u001b[0m     \u001b[38;5;28;01mreturn\u001b[39;00m np\u001b[38;5;241m.\u001b[39mroll(data, i, axis\u001b[38;5;241m=\u001b[39m\u001b[38;5;241m0\u001b[39m)\n\u001b[0;32m----> 6\u001b[0m data_list \u001b[38;5;241m=\u001b[39m \u001b[43mgenerate_anim\u001b[49m(ori_img, roll, tot_frame\u001b[38;5;241m=\u001b[39mori_img\u001b[38;5;241m.\u001b[39mshape[\u001b[38;5;241m0\u001b[39m])\n\u001b[1;32m      7\u001b[0m save_anim(data_list, \u001b[38;5;124m'\u001b[39m\u001b[38;5;124mroll.gif\u001b[39m\u001b[38;5;124m'\u001b[39m, fps\u001b[38;5;241m=\u001b[39m\u001b[38;5;241m30\u001b[39m)\n",
      "\u001b[0;31mNameError\u001b[0m: name 'generate_anim' is not defined"
     ]
    }
   ],
   "source": [
    "# Function that will roll around one axis\n",
    "def roll(data, iter_tuple):\n",
    "    i = (data.shape[0] // iter_tuple[1]) * iter_tuple[0]\n",
    "    return np.roll(data, i, axis=0)\n",
    "\n",
    "data_list = generate_anim(ori_img, roll, tot_frame=ori_img.shape[0])\n",
    "save_anim(data_list, 'roll.gif', fps=30)"
   ]
  },
  {
   "cell_type": "code",
   "execution_count": 3,
   "id": "eb15cd31",
   "metadata": {},
   "outputs": [
    {
     "ename": "ModuleNotFoundError",
     "evalue": "No module named 'PIL'",
     "output_type": "error",
     "traceback": [
      "\u001b[0;31m---------------------------------------------------------------------------\u001b[0m",
      "\u001b[0;31mModuleNotFoundError\u001b[0m                       Traceback (most recent call last)",
      "Cell \u001b[0;32mIn [3], line 1\u001b[0m\n\u001b[0;32m----> 1\u001b[0m \u001b[38;5;28;01mfrom\u001b[39;00m \u001b[38;5;21;01mPIL\u001b[39;00m \u001b[38;5;28;01mimport\u001b[39;00m Image\n\u001b[1;32m      3\u001b[0m \u001b[38;5;66;03m# Using a libary to resample down and then up an image (pixelate/blur)\u001b[39;00m\n\u001b[1;32m      4\u001b[0m \u001b[38;5;28;01mdef\u001b[39;00m \u001b[38;5;21mpixelate\u001b[39m(data, iter_tuple):\n",
      "\u001b[0;31mModuleNotFoundError\u001b[0m: No module named 'PIL'"
     ]
    }
   ],
   "source": [
    "from PIL import Image\n",
    "\n",
    "# Using a libary to resample down and then up an image (pixelate/blur)\n",
    "def pixelate(data, iter_tuple):\n",
    "    i = iter_tuple[0] // (iter_tuple[1] // 10)\n",
    "    x = data.shape[0] // (i+1)\n",
    "    y = data.shape[1] // (i+1)\n",
    "    \n",
    "    tmp = Image.fromarray(data)\n",
    "    down = tmp.resize((y,x), Image.NEAREST)\n",
    "    up = down.resize((data.shape[1], data.shape[0]), Image.NEAREST)\n",
    "    return np.array(up).astype(np.uint8)\n",
    "\n",
    "data_list = generate_anim(ori_img, pixelate, tot_frame=100)\n",
    "save_anim(data_list, 'pixelate.gif', fps=25)"
   ]
  },
  {
   "cell_type": "code",
   "execution_count": 4,
   "id": "6c202c3e",
   "metadata": {},
   "outputs": [
    {
     "ename": "NameError",
     "evalue": "name 'os' is not defined",
     "output_type": "error",
     "traceback": [
      "\u001b[0;31m---------------------------------------------------------------------------\u001b[0m",
      "\u001b[0;31mNameError\u001b[0m                                 Traceback (most recent call last)",
      "Cell \u001b[0;32mIn [4], line 2\u001b[0m\n\u001b[1;32m      1\u001b[0m \u001b[38;5;66;03m# From a list of images, generate a GIF\u001b[39;00m\n\u001b[0;32m----> 2\u001b[0m filenames \u001b[38;5;241m=\u001b[39m \u001b[38;5;28msorted\u001b[39m(\u001b[43mos\u001b[49m\u001b[38;5;241m.\u001b[39mlistdir(\u001b[38;5;124m'\u001b[39m\u001b[38;5;124mdata/frames/\u001b[39m\u001b[38;5;124m'\u001b[39m))\n\u001b[1;32m      3\u001b[0m data_list \u001b[38;5;241m=\u001b[39m []\n\u001b[1;32m      4\u001b[0m \u001b[38;5;28;01mfor\u001b[39;00m filename \u001b[38;5;129;01min\u001b[39;00m filenames:\n",
      "\u001b[0;31mNameError\u001b[0m: name 'os' is not defined"
     ]
    }
   ],
   "source": [
    "# From a list of images, generate a GIF\n",
    "filenames = sorted(os.listdir('data/frames/'))\n",
    "data_list = []\n",
    "for filename in filenames:\n",
    "    curr_frame = iio.imread(os.path.join('data/frames/',\n",
    "                                        filename))\n",
    "    data_list.append(curr_frame)\n",
    "save_anim(data_list, 'goku.gif', fps=15)"
   ]
  },
  {
   "cell_type": "code",
   "execution_count": null,
   "id": "cc9cf29c",
   "metadata": {},
   "outputs": [],
   "source": []
  }
 ],
 "metadata": {
  "kernelspec": {
   "display_name": "Python 3 (ipykernel)",
   "language": "python",
   "name": "python3"
  },
  "language_info": {
   "codemirror_mode": {
    "name": "ipython",
    "version": 3
   },
   "file_extension": ".py",
   "mimetype": "text/x-python",
   "name": "python",
   "nbconvert_exporter": "python",
   "pygments_lexer": "ipython3",
   "version": "3.10.6"
  }
 },
 "nbformat": 4,
 "nbformat_minor": 5
}
