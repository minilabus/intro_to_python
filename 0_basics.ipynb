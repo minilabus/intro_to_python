{
 "cells": [
  {
   "cell_type": "code",
   "execution_count": 1,
   "id": "d7d2f81c",
   "metadata": {},
   "outputs": [
    {
     "name": "stdout",
     "output_type": "stream",
     "text": [
      "Hello World !\n"
     ]
    }
   ],
   "source": [
    "print('Hello World !')"
   ]
  },
  {
   "cell_type": "code",
   "execution_count": 2,
   "id": "956a11ae",
   "metadata": {},
   "outputs": [
    {
     "name": "stdout",
     "output_type": "stream",
     "text": [
      "Base operations\n",
      "14 6 40 10000 2.5 2 2\n"
     ]
    }
   ],
   "source": [
    "# Printing information\n",
    "print('Base operations')\n",
    "print(10+4, 10-4, 10*4, 10**4, 10/4, 10//4, 10 % 4)"
   ]
  },
  {
   "cell_type": "code",
   "execution_count": 3,
   "id": "0d961ca9",
   "metadata": {},
   "outputs": [
    {
     "name": "stdout",
     "output_type": "stream",
     "text": [
      "Base operations\n",
      "14 6 40 10000 2.5 2 2\n"
     ]
    }
   ],
   "source": [
    "# Variable (Integers & Float)\n",
    "x = 10\n",
    "y = 4\n",
    "\n",
    "print('Base operations')\n",
    "print(x+y, x-y, x*y, x**y, x/y, x//y, x % y)"
   ]
  },
  {
   "cell_type": "code",
   "execution_count": 4,
   "id": "8fd28332",
   "metadata": {},
   "outputs": [
    {
     "name": "stdout",
     "output_type": "stream",
     "text": [
      "Variables can evolve\n",
      "14 8 33 1331 3.6666666666666665 3 2\n"
     ]
    }
   ],
   "source": [
    "# Variable (in-place, Integers & Float)\n",
    "x += 1\n",
    "y -= 1\n",
    "\n",
    "print('Variables can evolve')\n",
    "print(x+y, x-y, x*y, x**y, x/y, x//y, x % y)"
   ]
  },
  {
   "cell_type": "code",
   "execution_count": 5,
   "id": "372d5736",
   "metadata": {},
   "outputs": [
    {
     "name": "stdout",
     "output_type": "stream",
     "text": [
      "Hello Wolrd !\n",
      "Hello Wolrd !\n"
     ]
    }
   ],
   "source": [
    "# Variable (string)\n",
    "a = 'Hello'\n",
    "b = 'Wolrd'\n",
    "c = '!'\n",
    "\n",
    "print(a, b, c)\n",
    "print(a+' '+b+' '+c)\n",
    "\n",
    "# To Try:\n",
    "# print(a-b)\n",
    "\n",
    "#print(\" \".join([a, b, c]))"
   ]
  },
  {
   "cell_type": "code",
   "execution_count": 6,
   "id": "f412db54",
   "metadata": {},
   "outputs": [
    {
     "name": "stdout",
     "output_type": "stream",
     "text": [
      "True False False False True True True\n"
     ]
    }
   ],
   "source": [
    "# Variable (bool)\n",
    "z = True\n",
    "w = False\n",
    "print(z, w, z&w, z and w, z | w, z or w, w^z)\n",
    "\n",
    "# To Try:\n",
    "# print(z+w, z+z, z-z)"
   ]
  },
  {
   "cell_type": "code",
   "execution_count": 7,
   "id": "8f34cb8e",
   "metadata": {},
   "outputs": [
    {
     "name": "stdout",
     "output_type": "stream",
     "text": [
      "(0, 13, 'a', 'b')\n",
      "0 13 13 0\n",
      "(0, 13) (13, 0)\n"
     ]
    }
   ],
   "source": [
    "# Variable (tuple)\n",
    "tup_int = (0, 13)\n",
    "tup_str = ('a', 'b')\n",
    "\n",
    "print(tup_int+tup_str)\n",
    "\n",
    "print(tup_int[0], tup_int[1], tup_int[-1], tup_int[-2])\n",
    "\n",
    "# To Try:\n",
    "# print(tup_int[0] + tup_int[1])\n",
    "# print(tup_int[0] + tup_str[0])\n",
    "\n",
    "print(tup_int[:], tup_int[::-1])"
   ]
  },
  {
   "cell_type": "code",
   "execution_count": 8,
   "id": "86d40ae3",
   "metadata": {},
   "outputs": [
    {
     "name": "stdout",
     "output_type": "stream",
     "text": [
      "[0, 1, 1, 2] [0, 1, 1, 2]\n",
      "[3, 2, 1, 1] [3, 2, 1, 1, 0]\n",
      "[0, 2, 8] [21, 5, 1]\n",
      "[1, 2] [8, 5, 3, 2]\n"
     ]
    }
   ],
   "source": [
    "# Variable (list)\n",
    "list_of_int = [0, 1, 1, 2, 3, 5, 8, 13, 21]\n",
    "list_of_str = ['Die', 'Hard', 'with', 'a', 'Vengeance']\n",
    "\n",
    "print(list_of_int[0:4], list_of_int[:4])\n",
    "print(list_of_int[4:0:-1], list_of_int[4::-1])\n",
    "print(list_of_int[0::3], list_of_int[::-3])\n",
    "print(list_of_int[1:5:2], list_of_int[6:2:-1])\n",
    "\n",
    "# To Try:\n",
    "# print(list_of_int[1:1:5], list_of_int[0:2:-1])\n",
    "# print(list_of_int[20])\n",
    "# print(list_of_int[20:])"
   ]
  },
  {
   "cell_type": "code",
   "execution_count": 9,
   "id": "100dd536",
   "metadata": {},
   "outputs": [
    {
     "name": "stdout",
     "output_type": "stream",
     "text": [
      "{0, 1, 2, 3, 5, 8, 13, 21}\n"
     ]
    }
   ],
   "source": [
    "# Variable (set)\n",
    "set_of_int = {0, 1, 1, 2, 3, 5, 8, 13, 21}\n",
    "\n",
    "print(set_of_int)"
   ]
  },
  {
   "cell_type": "code",
   "execution_count": 10,
   "id": "aa45dbfb",
   "metadata": {},
   "outputs": [
    {
     "name": "stdout",
     "output_type": "stream",
     "text": [
      "zero 0\n"
     ]
    }
   ],
   "source": [
    "# Variable (dict)\n",
    "dict_of_word_eng = {1: 'one', 0: 'zero', 2: 'two'}\n",
    "dict_of_int_eng = {'zero':0, 'one': 1, 'two': 2} \n",
    "dict_of_word_fr = {2: 'deux', 0: 'zéro', 1: 'un'}\n",
    "\n",
    "print(dict_of_word_eng[0], dict_of_int_eng['zero'])\n",
    "\n",
    "# To Try:\n",
    "# print(dict_of_word_fr[dict_of_int_eng['two']])\n",
    "# print(dict_of_word_eng[10]"
   ]
  },
  {
   "cell_type": "code",
   "execution_count": 11,
   "id": "49b0854d",
   "metadata": {},
   "outputs": [
    {
     "name": "stdout",
     "output_type": "stream",
     "text": [
      "10\n",
      "5\n",
      "0.05\n",
      "['Hello', 'Brightness', 'My', 'Old', 'Friend']\n",
      "['Hello', 'Darkness', 'My', 'Old', 'Friend']\n",
      "['Friend', 'Old', 'My', 'Darkness', 'Hello']\n",
      "{'TFOTR': 2001, 'TTT': 2022, 'TROTK': 2003}\n",
      "{'TFOTR': 2001, 'TTT': 2002, 'TROTK': 2003}\n"
     ]
    }
   ],
   "source": [
    "# Overwriting variables\n",
    "\n",
    "a = 10\n",
    "print(a)\n",
    "a = 5 # Overwrites\n",
    "print(a)\n",
    "a /= 100 # In-Place\n",
    "print(a)\n",
    "\n",
    "# To Try: -= /=, +=, *=\n",
    "text = ['Hello', 'Brightness', 'My', 'Old', 'Friend']\n",
    "print(text)\n",
    "text[1] = 'Darkness'\n",
    "print(text)\n",
    "text[:] = text[::-1]\n",
    "print(text)\n",
    "\n",
    "movies = {'TFOTR': 2001, 'TTT': 2022, 'TROTK': 2003}\n",
    "print(movies)\n",
    "movies['TTT'] = 2002\n",
    "print(movies)"
   ]
  },
  {
   "cell_type": "code",
   "execution_count": 12,
   "id": "0098923f",
   "metadata": {},
   "outputs": [
    {
     "name": "stdout",
     "output_type": "stream",
     "text": [
      "(0, 5, 0, 5) [1, 6, 1, 6]\n",
      "[1, 6, (0, 5)]\n",
      "[1, 6, (0, 5), 0, 5]\n",
      "{2, (0, 5), 7}\n",
      "{0, 2, 5, 7, (0, 5)}\n"
     ]
    }
   ],
   "source": [
    "# Base Operation on Iterable\n",
    "\n",
    "my_tuple = (0, 5)\n",
    "my_list = [1, 6] # list((1, 6))\n",
    "my_set = {2, 7} # set([2, 7])\n",
    "my_dict = {3: 8}\n",
    "\n",
    "print(my_tuple + my_tuple, my_list + my_list)\n",
    "# print(my_set + my_set)\n",
    "\n",
    "# Merging iterable (list)\n",
    "my_list.append(my_tuple) # In-Place\n",
    "print(my_list)\n",
    "\n",
    "my_list.extend(my_tuple) # In-Place\n",
    "# my_list += my_tuple # In-Place\n",
    "print(my_list)\n",
    "\n",
    "# Merging iterable (set)\n",
    "my_set.add(my_tuple) # In-Place\n",
    "print(my_set)\n",
    "\n",
    "my_set.update(my_tuple) # In-Place\n",
    "print(my_set)"
   ]
  },
  {
   "cell_type": "code",
   "execution_count": 13,
   "id": "69d9e630",
   "metadata": {},
   "outputs": [
    {
     "name": "stdout",
     "output_type": "stream",
     "text": [
      "<class 'int'> <class 'list'>\n",
      "False True\n",
      "<class 'str'> <class 'list'>\n",
      "13 3\n",
      "<class 'dict'> 5\n",
      "dict_keys(['Die Hard', 'Die Hard 2', 'Die Hard with a Vengeance', 'Live Free or Die Hard', 'A Good Day to Die Hard'])\n",
      "dict_values([1988, 1990, 1995, 2007, 2013])\n",
      "dict_items([('Die Hard', 1988), ('Die Hard 2', 1990), ('Die Hard with a Vengeance', 1995), ('Live Free or Die Hard', 2007), ('A Good Day to Die Hard', 2013)])\n"
     ]
    }
   ],
   "source": [
    "# Getting basic information\n",
    "\n",
    "val = 0\n",
    "val_as_list = [0]\n",
    "\n",
    "print(type(val), type(val_as_list))\n",
    "print(isinstance(val, list), isinstance(val_as_list, list))\n",
    "\n",
    "text_as_str = 'Hello World !'\n",
    "text_as_list = ['Hello', 'World', '!']\n",
    "print(type(text_as_str), type(text_as_list))\n",
    "print(len(text_as_str), len(text_as_list))\n",
    "\n",
    "movies_dict = {'Die Hard': 1988,\n",
    "               'Die Hard 2': 1990,\n",
    "               'Die Hard with a Vengeance': 1995,\n",
    "               'Live Free or Die Hard': 2007,\n",
    "               'A Good Day to Die Hard': 2013}\n",
    "print(type(movies_dict), len(movies_dict))\n",
    "print(movies_dict.keys())\n",
    "print(movies_dict.values())\n",
    "print(movies_dict.items())"
   ]
  },
  {
   "cell_type": "code",
   "execution_count": 14,
   "id": "32711f7f",
   "metadata": {},
   "outputs": [
    {
     "name": "stdout",
     "output_type": "stream",
     "text": [
      "Divisible by 10\n",
      "Small Number...\n",
      "One is Negative!\n"
     ]
    }
   ],
   "source": [
    "# Using boolean\n",
    "\n",
    "my_val = -120\n",
    "\n",
    "if my_val % 12:\n",
    "    print('Not divisible by 12')\n",
    "\n",
    "if my_val % 10:\n",
    "    print('Not Divisible by 10')\n",
    "else:\n",
    "    print('Divisible by 10')\n",
    "    \n",
    "# Support negative number?\n",
    "# my_val = my_val if my_val > 0 else -1*my_val\n",
    "    \n",
    "if my_val > 100:\n",
    "    print('Big Number!')\n",
    "elif my_val < 1:\n",
    "    print('Small Number...')\n",
    "else:\n",
    "    print('Medium Number.')\n",
    "    \n",
    "# To Try:\n",
    "# print(100 > 1000, 100 < 1000, 100 == 1000, 100 != 1000)\n",
    "# print(1 > 1, 1 >= 1, 1 < 1, 1 <= 1)\n",
    "# print(not True, not False)\n",
    "\n",
    "# Why is that piece of code not working?\n",
    "num_1, num_2 = -18, -10\n",
    "if num_1 < 0 or num_2 < 0:\n",
    "    print('One is Negative!')\n",
    "elif num_1 < 0 and num_2 < 0:\n",
    "    print('Both are Negative!')"
   ]
  },
  {
   "cell_type": "code",
   "execution_count": 15,
   "id": "6fb878ef",
   "metadata": {},
   "outputs": [
    {
     "name": "stdout",
     "output_type": "stream",
     "text": [
      "85\n",
      "[0, 1, 1, 2, 3, 5, 8, 13, 21, 34, 55, 89]\n",
      "[0, 1, 1, 2, 3, 5, 8, 13, 21, 34, 55, 89, 144, 233, 377, 610, 987, 1597]\n"
     ]
    }
   ],
   "source": [
    "# Using iterable (standard, not Numpy)\n",
    "# For loop\n",
    "\n",
    "quote = ['If', 'you', 'set', 'your', 'goals', 'ridiculously',\n",
    "         'high', 'and', 'it', 'is', 'a', 'failure', 'you',\n",
    "         'will', 'fail', 'above', 'everyone', 'else\\'s', 'success']\n",
    "\n",
    "count = 0\n",
    "for word in quote:\n",
    "    count += len(word)\n",
    "print(count)\n",
    "\n",
    "fibo = [0, 1]\n",
    "# What is range(N) ?\n",
    "for i in range(10):\n",
    "    fibo.append(fibo[-2] + fibo[-1])\n",
    "print(fibo)\n",
    "\n",
    "# While statement\n",
    "\n",
    "while fibo[-1] < 1000:\n",
    "    fibo.append(fibo[-2] + fibo[-1])\n",
    "print(fibo)"
   ]
  },
  {
   "cell_type": "code",
   "execution_count": null,
   "id": "01ac2fe6",
   "metadata": {},
   "outputs": [],
   "source": []
  },
  {
   "cell_type": "code",
   "execution_count": 16,
   "id": "9053c70f",
   "metadata": {},
   "outputs": [
    {
     "name": "stdout",
     "output_type": "stream",
     "text": [
      "Method #1\n",
      "0 Toto,\n",
      "1 I've\n",
      "2 got\n",
      "3 a\n",
      "4 feeling\n",
      "5 we're\n",
      "6 not\n",
      "7 in\n",
      "8 Kansas\n",
      "9 anymore.\n",
      "\n",
      " Method #2\n",
      "0 Toto,\n",
      "1 I've\n",
      "2 got\n",
      "3 a\n",
      "4 feeling\n",
      "5 we're\n",
      "6 not\n",
      "7 in\n",
      "8 Kansas\n",
      "9 anymore.\n",
      "\n",
      " Method #3\n",
      "0 Toto,\n",
      "1 I've\n",
      "2 got\n",
      "3 a\n",
      "4 feeling\n",
      "5 we're\n",
      "6 not\n",
      "7 in\n",
      "8 Kansas\n",
      "9 anymore.\n",
      "\n",
      " Method #4\n",
      "0 Toto,\n",
      "1 I've\n",
      "2 got\n",
      "3 a\n",
      "4 feeling\n",
      "5 we're\n",
      "6 not\n",
      "7 in\n",
      "8 Kansas\n",
      "9 anymore.\n",
      "\n",
      " Method #5\n",
      "0 Toto,\n",
      "1 I've\n",
      "2 got\n",
      "3 a\n",
      "4 feeling\n",
      "5 we're\n",
      "6 not\n",
      "7 in\n",
      "8 Kansas\n",
      "9 anymore.\n"
     ]
    }
   ],
   "source": [
    "# Exercice 1: String operation\n",
    "# PRINT INDIVIDUAL WORDS AND THEIR POSITION\n",
    "\n",
    "sentence = \"Toto, I've got a feeling we're not in Kansas anymore.\"\n",
    "words = sentence.split(' ') # Look up https://www.w3schools.com/python/python_ref_string.asp for more function\n",
    "\n",
    "print('Method #1')\n",
    "for i in range(len(words)):\n",
    "    print(i, words[i])\n",
    "\n",
    "print('\\n', 'Method #2')\n",
    "i = 0\n",
    "for word in words:\n",
    "    print(i, word)\n",
    "    i += 1\n",
    "\n",
    "print('\\n', 'Method #3')\n",
    "for i, word in enumerate(words):\n",
    "    print(i, word)\n",
    "\n",
    "print('\\n', 'Method #4')\n",
    "i = 0\n",
    "while True:\n",
    "    if i < len(words):\n",
    "        print(i, words[i])\n",
    "        i += 1\n",
    "    else:\n",
    "        break\n",
    "      \n",
    "print('\\n', 'Method #5')\n",
    "count = range(len(words))\n",
    "for i, word in zip(count, words):\n",
    "      print(i, word)"
   ]
  },
  {
   "cell_type": "code",
   "execution_count": 17,
   "id": "39f4c01d",
   "metadata": {},
   "outputs": [
    {
     "name": "stdout",
     "output_type": "stream",
     "text": [
      "Method #1\n",
      "Fail !\n",
      "\n",
      " Method #2\n",
      "Success !\n",
      "\n",
      " Method #3\n",
      "Success !\n",
      "\n",
      " Method #4\n",
      "Success !\n",
      "\n",
      " Method #5\n",
      "Success !\n"
     ]
    }
   ],
   "source": [
    "# Exercice 2: Iterable boolean operation\n",
    "# Test if iterable are equal\n",
    "\n",
    "arr = [0,10,17]\n",
    "tup = (0,10,17)\n",
    "x1,y1,z1 = arr\n",
    "x2,y2,z2 = tup\n",
    "\n",
    "print('Method #1')\n",
    "if arr == tup:\n",
    "    print('Success !')\n",
    "else:\n",
    "    print('Fail !')\n",
    "\n",
    "print('\\n', 'Method #2')\n",
    "if x1 == x2:\n",
    "    if y1 == y2:\n",
    "        if z1 ==z2:\n",
    "            print('Success !')\n",
    "        else:\n",
    "            print('Fail !')\n",
    "    else:\n",
    "        print('Fail !')\n",
    "else:\n",
    "    print('Fail !')\n",
    "\n",
    "print('\\n', 'Method #3')\n",
    "if x1 == x2 and y1 == y2 and z1 ==z2:\n",
    "    print('Success !')\n",
    "\n",
    "print('\\n', 'Method #4')\n",
    "success = True\n",
    "for i in range(len(arr)):\n",
    "    if arr[i] != tup[i]:\n",
    "        success = False\n",
    "        break\n",
    "if success:\n",
    "    print('Success !')\n",
    "else:\n",
    "    print('Fail !')\n",
    "\n",
    "print('\\n', 'Method #5')\n",
    "if tuple(arr) == tup:\n",
    "    print('Success !')\n",
    "else:\n",
    "    print('Fail !')"
   ]
  },
  {
   "cell_type": "code",
   "execution_count": 18,
   "id": "a9f9e620",
   "metadata": {},
   "outputs": [
    {
     "name": "stdout",
     "output_type": "stream",
     "text": [
      "\n",
      " Method #1\n",
      "{'Ben E King': ['Stand By Me'], 'Bobby McFerrin': ['Dont Worry Be Happy'], 'The Police': ['Every Breath You Take', 'Message In A Bottle', 'Roxanne']}\n",
      "\n",
      " Method #2\n",
      "{'Ben E King': ['Stand By Me'], 'Bobby McFerrin': ['Dont Worry Be Happy'], 'The Police': ['Every Breath You Take', 'Message In A Bottle', 'Roxanne']}\n",
      "\n",
      " Method #1\n",
      "Ben E King ['Stand By Me']\n",
      "Bobby McFerrin ['Dont Worry Be Happy']\n",
      "The Police ['Every Breath You Take', 'Message In A Bottle', 'Roxanne']\n",
      "Lil Wayne is not present in the dictionary\n",
      "\n",
      " Method #2\n",
      "Ben E King ['Stand By Me']\n",
      "Bobby McFerrin ['Dont Worry Be Happy']\n",
      "The Police ['Every Breath You Take', 'Message In A Bottle', 'Roxanne']\n",
      "{'Ben E King': ['Stand By Me'], 'Bobby McFerrin': ['Dont Worry Be Happy'], 'The Police': ['Every Breath You Take', 'Message In A Bottle', 'Roxanne', 'The Bed is Too Big Without You', 'Bring On the Night', 'Cannot Stand Losing You']}\n",
      "{'Ben E King': ['Stand By Me'], 'Bobby McFerrin': ['Dont Worry Be Happy'], 'The Police': ['Every Breath You Take', 'Message In A Bottle', 'Roxanne', 'The Bed is Too Big Without You', 'Bring On the Night', 'Cannot Stand Losing You'], 'Lil Wayne': ['Mr. Carter', 'Got Money', 'Lollipop']}\n",
      "\n",
      " ADD ELEMENT (ROBUST/ERASE)\n",
      "{'Ben E King': ['Stand By Me'], 'Bobby McFerrin': ['Dont Worry Be Happy'], 'The Police': ['Every Breath You Take', 'Message In A Bottle', 'Roxanne', 'The Bed is Too Big Without You', 'Bring On the Night', 'Cannot Stand Losing You'], 'Lil Wayne': ['Mr. Carter', 'Got Money', 'Lollipop']}\n"
     ]
    }
   ],
   "source": [
    "# Exercice 3: Dictionary manipulation\n",
    "# a. Create it\n",
    "\n",
    "print('\\n', 'Method #1')\n",
    "dictionary = {}\n",
    "dictionary['Ben E King'] = ['Stand By Me']\n",
    "dictionary['Bobby McFerrin'] = ['Dont Worry Be Happy']\n",
    "dictionary['The Police'] = ['Every Breath You Take', 'Message In A Bottle', 'Roxanne']\n",
    "print(dictionary)\n",
    "\n",
    "print('\\n', 'Method #2')\n",
    "dictionary = dict(zip(['Ben E King', 'Bobby McFerrin', 'The Police'], \n",
    "                [['Stand By Me'], \n",
    "                ['Dont Worry Be Happy'], \n",
    "                ['Every Breath You Take', 'Message In A Bottle', 'Roxanne']]))\n",
    "print(dictionary)\n",
    "\n",
    "# Exercice 3: Dictionary manipulation\n",
    "# a. Print it\n",
    "print('\\n', 'Method #1')\n",
    "for key in ['Ben E King', 'Bobby McFerrin', 'The Police', 'Lil Wayne']:\n",
    "    if key in dictionary:\n",
    "        print(key, dictionary[key])\n",
    "    else:\n",
    "        print('{0} is not present in the dictionary'.format(key))\n",
    "\n",
    "print('\\n', 'Method #2')\n",
    "for key in dictionary.keys():\n",
    "    print(key, dictionary[key])\n",
    "\n",
    "# Exercice 3: Dictionary manipulation\n",
    "# b. Append it\n",
    "new_songs = ['The Bed is Too Big Without You', 'Bring On the Night', 'Cannot Stand Losing You']\n",
    "for song in new_songs:\n",
    "    # dictionary['The Police'] += song\n",
    "    dictionary['The Police'].append(song)\n",
    "print(dictionary)\n",
    "\n",
    "# Robust\n",
    "new_songs = ['Mr. Carter', 'Got Money', 'Lollipop']\n",
    "for song in new_songs:\n",
    "    if 'Lil Wayne' in dictionary:\n",
    "        # dictionary['Lil Wayne'] += song\n",
    "        dictionary['Lil Wayne'].append(song)\n",
    "    else:\n",
    "        dictionary['Lil Wayne'] = [song]\n",
    "print(dictionary)\n",
    "\n",
    "# Alternative\n",
    "print('\\n', 'ADD ELEMENT (ROBUST/ERASE)')\n",
    "dictionary['Lil Wayne'] = ['Mr. Carter']\n",
    "dictionary['Lil Wayne'].extend(['Got Money', 'Lollipop'])\n",
    "print(dictionary)"
   ]
  },
  {
   "cell_type": "code",
   "execution_count": null,
   "id": "8c6eac45",
   "metadata": {},
   "outputs": [],
   "source": []
  }
 ],
 "metadata": {
  "kernelspec": {
   "display_name": "Python 3 (ipykernel)",
   "language": "python",
   "name": "python3"
  },
  "language_info": {
   "codemirror_mode": {
    "name": "ipython",
    "version": 3
   },
   "file_extension": ".py",
   "mimetype": "text/x-python",
   "name": "python",
   "nbconvert_exporter": "python",
   "pygments_lexer": "ipython3",
   "version": "3.7.15"
  }
 },
 "nbformat": 4,
 "nbformat_minor": 5
}
